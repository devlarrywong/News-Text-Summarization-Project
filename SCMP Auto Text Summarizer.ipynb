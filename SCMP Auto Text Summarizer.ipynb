{
 "cells": [
  {
   "cell_type": "code",
   "execution_count": 2,
   "metadata": {
    "scrolled": true
   },
   "outputs": [
    {
     "name": "stdout",
     "output_type": "stream",
     "text": [
      "showing info https://raw.githubusercontent.com/nltk/nltk_data/gh-pages/index.xml\n"
     ]
    },
    {
     "data": {
      "text/plain": [
       "True"
      ]
     },
     "execution_count": 2,
     "metadata": {},
     "output_type": "execute_result"
    }
   ],
   "source": [
    "import nltk\n",
    "nltk.download()"
   ]
  },
  {
   "cell_type": "markdown",
   "metadata": {},
   "source": [
    "## Auto Summarizing Text\n",
    "\n",
    "Problem Definition  \n",
    "Retrieve Text  (bs4)  \n",
    "Pre-processing  \n",
    "Visualisation  \n",
    "Extract Sentences"
   ]
  },
  {
   "cell_type": "markdown",
   "metadata": {},
   "source": [
    "### Libraries"
   ]
  },
  {
   "cell_type": "code",
   "execution_count": 3,
   "metadata": {},
   "outputs": [],
   "source": [
    "from bs4 import BeautifulSoup\n",
    "import requests\n",
    "from nltk import tokenize\n",
    "from nltk.corpus import stopwords \n",
    "from nltk.tokenize import sent_tokenize, word_tokenize\n",
    "from string import punctuation\n",
    "import heapq\n",
    "import math"
   ]
  },
  {
   "cell_type": "markdown",
   "metadata": {},
   "source": [
    "### Retrieve Text"
   ]
  },
  {
   "cell_type": "code",
   "execution_count": 4,
   "metadata": {},
   "outputs": [],
   "source": [
    "url = 'https://www.scmp.com/news/hong-kong/politics/article/2176058/hong-kong-lawmaker-eddie-chus-ban-village-election-based'\n",
    "def GetText(url):\n",
    "    html = requests.get(url)\n",
    "    soup = BeautifulSoup(html.text, 'html.parser')\n",
    "    text = ' '.join(map(lambda p: p.text, soup.find_all('p')))\n",
    "    return text"
   ]
  },
  {
   "cell_type": "markdown",
   "metadata": {},
   "source": [
    "### Pre-processing"
   ]
  },
  {
   "cell_type": "code",
   "execution_count": 5,
   "metadata": {},
   "outputs": [],
   "source": [
    "def preprocess(word_token):\n",
    "    stop_words = set(stopwords.words('english')+list(punctuation)+['’','“','–','”',',','.','‘'])\n",
    "    word_frequencies = {}\n",
    "    for word in word_token:\n",
    "        if word not in stop_words:\n",
    "            if word not in word_frequencies.keys():\n",
    "                word_frequencies[word] = 1\n",
    "            else:\n",
    "                word_frequencies[word] += 1\n",
    "    return word_frequencies    "
   ]
  },
  {
   "cell_type": "code",
   "execution_count": 6,
   "metadata": {},
   "outputs": [],
   "source": [
    "sentences = sent_tokenize(GetText(url))[0:-2]\n",
    "word_token = word_tokenize(GetText(url))\n",
    "word_frequencies = preprocess(word_token)"
   ]
  },
  {
   "cell_type": "code",
   "execution_count": 7,
   "metadata": {},
   "outputs": [],
   "source": [
    "def frequency(word_frequencies):\n",
    "    highest_frequncy = max(word_frequencies.values())\n",
    "    for word in word_frequencies.keys():  \n",
    "        word_frequencies[word] = (word_frequencies[word]/highest_frequncy)\n",
    "    return word_frequencies"
   ]
  },
  {
   "cell_type": "code",
   "execution_count": 8,
   "metadata": {},
   "outputs": [
    {
     "data": {
      "text/plain": [
       "{'Hong': 0.44,\n",
       " 'Kong': 0.44,\n",
       " 'localism': 0.04,\n",
       " 'independence': 0.24,\n",
       " 'Comments': 0.04,\n",
       " 'The': 0.4,\n",
       " 'decision': 0.2,\n",
       " 'ban': 0.12,\n",
       " 'lawmaker': 0.12,\n",
       " 'Eddie': 0.04,\n",
       " 'Chu': 1.0,\n",
       " 'Hoi-dick': 0.04,\n",
       " 'running': 0.08,\n",
       " 'rural': 0.12,\n",
       " 'representative': 0.12,\n",
       " 'election': 0.36,\n",
       " 'based': 0.04,\n",
       " 'shaky': 0.04,\n",
       " 'argument': 0.08,\n",
       " 'could': 0.28,\n",
       " 'struck': 0.04,\n",
       " 'court': 0.16,\n",
       " 'according': 0.04,\n",
       " 'leading': 0.04,\n",
       " 'legal': 0.24,\n",
       " 'scholars': 0.04,\n",
       " 'also': 0.24,\n",
       " 'called': 0.04,\n",
       " 'courts': 0.12,\n",
       " 'clarify': 0.12,\n",
       " 'vagueness': 0.08,\n",
       " 'laws': 0.08,\n",
       " 'Johannes': 0.12,\n",
       " 'Chan': 0.44,\n",
       " 'Man-mun': 0.04,\n",
       " 'former': 0.08,\n",
       " 'law': 0.12,\n",
       " 'dean': 0.04,\n",
       " 'University': 0.04,\n",
       " 'speaking': 0.04,\n",
       " 'Sunday': 0.08,\n",
       " 'told': 0.04,\n",
       " 'would': 0.32,\n",
       " 'allowed': 0.04,\n",
       " 'run': 0.04,\n",
       " 'post': 0.04,\n",
       " 'local': 0.04,\n",
       " 'village': 0.08,\n",
       " 'Returning': 0.04,\n",
       " 'officer': 0.52,\n",
       " 'Enoch': 0.04,\n",
       " 'Yuen': 0.16,\n",
       " 'Ka-lok': 0.04,\n",
       " 'pointed': 0.04,\n",
       " 'stance': 0.12,\n",
       " 'said': 0.92,\n",
       " 'dodged': 0.04,\n",
       " 'questions': 0.08,\n",
       " 'political': 0.24,\n",
       " 'beliefs': 0.08,\n",
       " 'took': 0.04,\n",
       " 'imply': 0.04,\n",
       " 'supported': 0.04,\n",
       " 'possibility': 0.04,\n",
       " 'breaking': 0.04,\n",
       " 'Beijing': 0.04,\n",
       " 'future': 0.08,\n",
       " 'however': 0.04,\n",
       " 'responses': 0.04,\n",
       " 'returning': 0.44,\n",
       " 'open': 0.08,\n",
       " 'interpretation': 0.12,\n",
       " 'scholar': 0.08,\n",
       " 'believe': 0.04,\n",
       " 'met': 0.04,\n",
       " 'standard': 0.04,\n",
       " 'giving': 0.04,\n",
       " 'cogent': 0.08,\n",
       " 'clear': 0.08,\n",
       " 'compelling': 0.08,\n",
       " 'evidence': 0.08,\n",
       " 'required': 0.08,\n",
       " 'precedent': 0.04,\n",
       " 'set': 0.04,\n",
       " 'case': 0.16,\n",
       " 'Andy': 0.16,\n",
       " 'Ho-tin': 0.04,\n",
       " 'barred': 0.04,\n",
       " 'standing': 0.04,\n",
       " 'Legislative': 0.12,\n",
       " 'Council': 0.12,\n",
       " 'by-election': 0.04,\n",
       " 'New': 0.04,\n",
       " 'Territories': 0.04,\n",
       " 'West': 0.04,\n",
       " '2016': 0.08,\n",
       " 'According': 0.04,\n",
       " 'Section': 0.04,\n",
       " '24': 0.04,\n",
       " 'Rural': 0.04,\n",
       " 'Representative': 0.04,\n",
       " 'Election': 0.04,\n",
       " 'Ordinance': 0.04,\n",
       " 'candidates': 0.12,\n",
       " 'declare': 0.04,\n",
       " 'allegiance': 0.2,\n",
       " 'Special': 0.04,\n",
       " 'Administrative': 0.04,\n",
       " 'Region': 0.04,\n",
       " 'state': 0.08,\n",
       " 'uphold': 0.12,\n",
       " 'Basic': 0.28,\n",
       " 'Law': 0.28,\n",
       " 'mini-constitution': 0.04,\n",
       " 'filing': 0.04,\n",
       " 'application': 0.08,\n",
       " 'requirement': 0.08,\n",
       " 'written': 0.08,\n",
       " '2003': 0.04,\n",
       " 'mirroring': 0.04,\n",
       " 'clauses': 0.04,\n",
       " 'rules': 0.04,\n",
       " 'Legco': 0.08,\n",
       " 'district': 0.12,\n",
       " 'council': 0.12,\n",
       " 'elections': 0.24,\n",
       " 'never': 0.08,\n",
       " 'applied': 0.04,\n",
       " 'situation': 0.08,\n",
       " 'changed': 0.04,\n",
       " 'separatist': 0.04,\n",
       " 'lost': 0.04,\n",
       " 'appeal': 0.16,\n",
       " 'February': 0.04,\n",
       " 'year': 0.08,\n",
       " 'saying': 0.04,\n",
       " 'officers': 0.12,\n",
       " 'held': 0.04,\n",
       " 'views': 0.08,\n",
       " 'ran': 0.04,\n",
       " 'contrary': 0.04,\n",
       " 'While': 0.04,\n",
       " 'landmark': 0.04,\n",
       " 'ruling': 0.12,\n",
       " 'concerned': 0.04,\n",
       " 'similar': 0.04,\n",
       " 'powers': 0.04,\n",
       " 'including': 0.04,\n",
       " 'next': 0.04,\n",
       " 'Gladys': 0.04,\n",
       " 'Li': 0.12,\n",
       " 'lawyer': 0.04,\n",
       " 'represented': 0.04,\n",
       " 'binding': 0.04,\n",
       " 'Eric': 0.04,\n",
       " 'Cheung': 0.08,\n",
       " 'Tat-ming': 0.04,\n",
       " 'another': 0.08,\n",
       " 'HKU': 0.04,\n",
       " 'provided': 0.04,\n",
       " 'weak': 0.04,\n",
       " 'reasons': 0.04,\n",
       " 'disqualifying': 0.04,\n",
       " 'He': 0.08,\n",
       " 'agreed': 0.04,\n",
       " 'room': 0.04,\n",
       " 'launch': 0.12,\n",
       " 'logic': 0.04,\n",
       " 'become': 0.04,\n",
       " 'different': 0.04,\n",
       " 'government': 0.12,\n",
       " 'means': 0.04,\n",
       " 'intention': 0.08,\n",
       " 'upholding': 0.08,\n",
       " 'must': 0.04,\n",
       " 'process': 0.04,\n",
       " 'appeals': 0.04,\n",
       " 'quickly': 0.04,\n",
       " 'Stephen': 0.04,\n",
       " 'Fisher': 0.16,\n",
       " 'deputy': 0.04,\n",
       " 'home': 0.04,\n",
       " 'affairs': 0.04,\n",
       " 'secretary': 0.04,\n",
       " 'led': 0.04,\n",
       " 'effort': 0.04,\n",
       " 'formalise': 0.04,\n",
       " 'ordinance': 0.08,\n",
       " 'common': 0.04,\n",
       " 'sense': 0.04,\n",
       " 'representatives': 0.08,\n",
       " 'elected': 0.04,\n",
       " 'people': 0.04,\n",
       " 'empowered': 0.04,\n",
       " 'identify': 0.04,\n",
       " 'indigenous': 0.04,\n",
       " 'villagers': 0.04,\n",
       " 'disqualification': 0.08,\n",
       " 'So': 0.04,\n",
       " 'normal': 0.04,\n",
       " 'drafting': 0.04,\n",
       " 'follows': 0.04,\n",
       " 'elections.': 0.04,\n",
       " 'comment': 0.04,\n",
       " 'unthinkable': 0.04,\n",
       " 'anyone': 0.04,\n",
       " 'back': 0.12,\n",
       " 'imagined': 0.04,\n",
       " 'candidate': 0.08,\n",
       " 'disqualified': 0.12,\n",
       " 'contentious': 0.04,\n",
       " 'defended': 0.04,\n",
       " 'option': 0.12,\n",
       " 'Hongkongers': 0.04,\n",
       " 'statement': 0.04,\n",
       " 'Pressed': 0.04,\n",
       " 'twice': 0.04,\n",
       " 'position': 0.04,\n",
       " 'say': 0.04,\n",
       " 'support': 0.08,\n",
       " 'added': 0.08,\n",
       " 'right': 0.04,\n",
       " 'peacefully': 0.04,\n",
       " 'advocate': 0.04,\n",
       " 'hardly': 0.04,\n",
       " 'fulfil': 0.04,\n",
       " 'criteria': 0.04,\n",
       " 'providing': 0.04,\n",
       " 'disqualify': 0.04,\n",
       " 'At': 0.04,\n",
       " 'best': 0.08,\n",
       " 'argue': 0.08,\n",
       " 'reply': 0.04,\n",
       " 'vague': 0.04,\n",
       " 'self-determination': 0.08,\n",
       " 'even': 0.04,\n",
       " 'confessed': 0.04,\n",
       " 'implicitly': 0.04,\n",
       " 'confirming': 0.04,\n",
       " 'But': 0.04,\n",
       " 'take': 0.04,\n",
       " 'silence': 0.04,\n",
       " 'That': 0.04,\n",
       " 'jumped': 0.04,\n",
       " 'many': 0.08,\n",
       " 'steps.': 0.04,\n",
       " 'create': 0.04,\n",
       " 'conflicting': 0.04,\n",
       " \"'s\": 0.04,\n",
       " 'since': 0.04,\n",
       " 'remained': 0.04,\n",
       " 'office': 0.04,\n",
       " 'separate': 0.04,\n",
       " 'Both': 0.04,\n",
       " 'come': 0.04,\n",
       " 'might': 0.12,\n",
       " 'require': 0.04,\n",
       " 'clarification': 0.04,\n",
       " 'It': 0.04,\n",
       " 'officials': 0.08,\n",
       " 'read': 0.04,\n",
       " 'mind': 0.04,\n",
       " 'still': 0.04,\n",
       " 'clarified': 0.04,\n",
       " 'far': 0.04,\n",
       " 'look': 0.04,\n",
       " 'go': 0.04,\n",
       " 'statements': 0.08,\n",
       " 'made': 0.16,\n",
       " 'two': 0.04,\n",
       " 'years': 0.04,\n",
       " 'ago': 0.04,\n",
       " 'asked': 0.04,\n",
       " 'Speaking': 0.04,\n",
       " 'Monday': 0.04,\n",
       " 'main': 0.04,\n",
       " 'concern': 0.04,\n",
       " 'launching': 0.04,\n",
       " 'costs': 0.04,\n",
       " 'construct': 0.04,\n",
       " 'Even': 0.04,\n",
       " 'apply': 0.04,\n",
       " 'aid': 0.04,\n",
       " 'bear': 0.04,\n",
       " 'significant': 0.04,\n",
       " 'share': 0.04,\n",
       " 'cost': 0.04,\n",
       " 'Aside': 0.04,\n",
       " 'handling': 0.04,\n",
       " 'want': 0.04,\n",
       " 'whether': 0.04,\n",
       " 'classifying': 0.04,\n",
       " 'city': 0.04,\n",
       " 'incompatible': 0.04,\n",
       " 'A': 0.04,\n",
       " 'ahead': 0.04,\n",
       " 'January': 0.04,\n",
       " 'deadline': 0.04,\n",
       " 'Executive': 0.04,\n",
       " 'councillor': 0.04,\n",
       " 'Ronny': 0.04,\n",
       " 'Tong': 0.16,\n",
       " 'Ka-wah': 0.04,\n",
       " 'surprised': 0.04,\n",
       " 'learn': 0.04,\n",
       " 'failed': 0.04,\n",
       " 'convince': 0.04,\n",
       " 'true': 0.04,\n",
       " 'intentions': 0.04,\n",
       " 'public': 0.08,\n",
       " 'needs': 0.04,\n",
       " 'respect': 0.04,\n",
       " 'appeal.': 0.04,\n",
       " 'Though': 0.04,\n",
       " 'signed': 0.08,\n",
       " 'declaration': 0.04,\n",
       " 'pledge': 0.04,\n",
       " 'SAR': 0.04,\n",
       " 'override': 0.04,\n",
       " 'past': 0.04,\n",
       " 'difference': 0.04,\n",
       " 'answered': 0.04,\n",
       " 'raised': 0.04,\n",
       " 'Additional': 0.04,\n",
       " 'reporting': 0.04,\n",
       " 'Sum': 0.04,\n",
       " 'Lok-kei': 0.04,\n",
       " 'You': 0.04,\n",
       " 'We': 0.04,\n",
       " 'think': 0.04,\n",
       " \"'d\": 0.04,\n",
       " 'like': 0.04}"
      ]
     },
     "execution_count": 8,
     "metadata": {},
     "output_type": "execute_result"
    }
   ],
   "source": [
    "word_frequencies = frequency(word_frequencies)\n",
    "word_frequencies"
   ]
  },
  {
   "cell_type": "code",
   "execution_count": 12,
   "metadata": {},
   "outputs": [
    {
     "ename": "SyntaxError",
     "evalue": "unexpected EOF while parsing (<ipython-input-12-ca88f8165d8d>, line 3)",
     "output_type": "error",
     "traceback": [
      "\u001b[0;36m  File \u001b[0;32m\"<ipython-input-12-ca88f8165d8d>\"\u001b[0;36m, line \u001b[0;32m3\u001b[0m\n\u001b[0;31m    #print(word)\u001b[0m\n\u001b[0m                ^\u001b[0m\n\u001b[0;31mSyntaxError\u001b[0m\u001b[0;31m:\u001b[0m unexpected EOF while parsing\n"
     ]
    }
   ],
   "source": [
    "for sentence in sentences:\n",
    "    for word in word_tokenize(sentence.lower()):\n",
    "        print()"
   ]
  },
  {
   "cell_type": "code",
   "execution_count": 13,
   "metadata": {},
   "outputs": [
    {
     "data": {
      "text/plain": [
       "dict_keys(['Hong', 'Kong', 'localism', 'independence', 'Comments', 'The', 'decision', 'ban', 'lawmaker', 'Eddie', 'Chu', 'Hoi-dick', 'running', 'rural', 'representative', 'election', 'based', 'shaky', 'argument', 'could', 'struck', 'court', 'according', 'leading', 'legal', 'scholars', 'also', 'called', 'courts', 'clarify', 'vagueness', 'laws', 'Johannes', 'Chan', 'Man-mun', 'former', 'law', 'dean', 'University', 'speaking', 'Sunday', 'told', 'would', 'allowed', 'run', 'post', 'local', 'village', 'Returning', 'officer', 'Enoch', 'Yuen', 'Ka-lok', 'pointed', 'stance', 'said', 'dodged', 'questions', 'political', 'beliefs', 'took', 'imply', 'supported', 'possibility', 'breaking', 'Beijing', 'future', 'however', 'responses', 'returning', 'open', 'interpretation', 'scholar', 'believe', 'met', 'standard', 'giving', 'cogent', 'clear', 'compelling', 'evidence', 'required', 'precedent', 'set', 'case', 'Andy', 'Ho-tin', 'barred', 'standing', 'Legislative', 'Council', 'by-election', 'New', 'Territories', 'West', '2016', 'According', 'Section', '24', 'Rural', 'Representative', 'Election', 'Ordinance', 'candidates', 'declare', 'allegiance', 'Special', 'Administrative', 'Region', 'state', 'uphold', 'Basic', 'Law', 'mini-constitution', 'filing', 'application', 'requirement', 'written', '2003', 'mirroring', 'clauses', 'rules', 'Legco', 'district', 'council', 'elections', 'never', 'applied', 'situation', 'changed', 'separatist', 'lost', 'appeal', 'February', 'year', 'saying', 'officers', 'held', 'views', 'ran', 'contrary', 'While', 'landmark', 'ruling', 'concerned', 'similar', 'powers', 'including', 'next', 'Gladys', 'Li', 'lawyer', 'represented', 'binding', 'Eric', 'Cheung', 'Tat-ming', 'another', 'HKU', 'provided', 'weak', 'reasons', 'disqualifying', 'He', 'agreed', 'room', 'launch', 'logic', 'become', 'different', 'government', 'means', 'intention', 'upholding', 'must', 'process', 'appeals', 'quickly', 'Stephen', 'Fisher', 'deputy', 'home', 'affairs', 'secretary', 'led', 'effort', 'formalise', 'ordinance', 'common', 'sense', 'representatives', 'elected', 'people', 'empowered', 'identify', 'indigenous', 'villagers', 'disqualification', 'So', 'normal', 'drafting', 'follows', 'elections.', 'comment', 'unthinkable', 'anyone', 'back', 'imagined', 'candidate', 'disqualified', 'contentious', 'defended', 'option', 'Hongkongers', 'statement', 'Pressed', 'twice', 'position', 'say', 'support', 'added', 'right', 'peacefully', 'advocate', 'hardly', 'fulfil', 'criteria', 'providing', 'disqualify', 'At', 'best', 'argue', 'reply', 'vague', 'self-determination', 'even', 'confessed', 'implicitly', 'confirming', 'But', 'take', 'silence', 'That', 'jumped', 'many', 'steps.', 'create', 'conflicting', \"'s\", 'since', 'remained', 'office', 'separate', 'Both', 'come', 'might', 'require', 'clarification', 'It', 'officials', 'read', 'mind', 'still', 'clarified', 'far', 'look', 'go', 'statements', 'made', 'two', 'years', 'ago', 'asked', 'Speaking', 'Monday', 'main', 'concern', 'launching', 'costs', 'construct', 'Even', 'apply', 'aid', 'bear', 'significant', 'share', 'cost', 'Aside', 'handling', 'want', 'whether', 'classifying', 'city', 'incompatible', 'A', 'ahead', 'January', 'deadline', 'Executive', 'councillor', 'Ronny', 'Tong', 'Ka-wah', 'surprised', 'learn', 'failed', 'convince', 'true', 'intentions', 'public', 'needs', 'respect', 'appeal.', 'Though', 'signed', 'declaration', 'pledge', 'SAR', 'override', 'past', 'difference', 'answered', 'raised', 'Additional', 'reporting', 'Sum', 'Lok-kei', 'You', 'We', 'think', \"'d\", 'like'])"
      ]
     },
     "execution_count": 13,
     "metadata": {},
     "output_type": "execute_result"
    }
   ],
   "source": [
    "word_frequencies.keys()"
   ]
  },
  {
   "cell_type": "code",
   "execution_count": null,
   "metadata": {},
   "outputs": [],
   "source": []
  },
  {
   "cell_type": "code",
   "execution_count": 695,
   "metadata": {},
   "outputs": [],
   "source": [
    "def sent_score(sentences):\n",
    "    sentence_scores = {}\n",
    "    for sentence in sentences:\n",
    "        for word in word_tokenize(sentence.lower()):\n",
    "            if word in word_frequencies.keys():\n",
    "                if len(sentence.split(' ')) < 30:\n",
    "                    if sentence not in sentence_scores.keys():\n",
    "                        sentence_scores[sentence] = word_frequencies[word]\n",
    "                    else: \n",
    "                        sentence_scores[sentence] += word_frequencies[word]\n",
    "    return sentence_scores"
   ]
  },
  {
   "cell_type": "code",
   "execution_count": 696,
   "metadata": {},
   "outputs": [],
   "source": [
    "sentence_scores = sent_score(sentences)"
   ]
  },
  {
   "cell_type": "code",
   "execution_count": 698,
   "metadata": {},
   "outputs": [
    {
     "name": "stdout",
     "output_type": "stream",
     "text": [
      "Johannes Chan said Chu’s political stance was open to interpretation, and the election officer could hardly fulfil the criteria for providing “cogent, clear and compelling” evidence to disqualify him. Returning officer Enoch Yuen Ka-lok pointed to Chu’s stance on Hong Kong independence and said the lawmaker had dodged his questions on his political beliefs. Gladys Li, the lawyer who represented Andy Chan, said the ruling would be binding on returning officers for other elections.\n"
     ]
    }
   ],
   "source": [
    "summary_sentences = heapq.nlargest(3, sentence_scores, key=sentence_scores.get)\n",
    "summary = ' '.join(summary_sentences)  \n",
    "print(summary)  "
   ]
  },
  {
   "cell_type": "code",
   "execution_count": null,
   "metadata": {},
   "outputs": [],
   "source": []
  }
 ],
 "metadata": {
  "kernelspec": {
   "display_name": "Python 3",
   "language": "python",
   "name": "python3"
  },
  "language_info": {
   "codemirror_mode": {
    "name": "ipython",
    "version": 3
   },
   "file_extension": ".py",
   "mimetype": "text/x-python",
   "name": "python",
   "nbconvert_exporter": "python",
   "pygments_lexer": "ipython3",
   "version": "3.6.4"
  }
 },
 "nbformat": 4,
 "nbformat_minor": 2
}
